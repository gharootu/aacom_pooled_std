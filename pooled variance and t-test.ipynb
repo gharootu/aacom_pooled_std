{
 "cells": [
  {
   "cell_type": "markdown",
   "id": "c7e312f1-30e5-4ffe-b8be-3e3436ccbf01",
   "metadata": {
    "lines_to_next_cell": 0,
    "title": "test"
   },
   "source": [
    "# Hi Mark :)\n",
    "##### This is a quick script that will allow you to calcualte pooled variance and a t-test from descriptive statistics.\n",
    "##### We are going to use **Cohen's** pooled standard deviation as it allows for unequal variance\n",
    " SDpooled = √((n1-1)*SD1^2 + (n2-1)*SD2^2)/(n1+n2-2)"
   ]
  },
  {
   "cell_type": "code",
   "execution_count": 1,
   "id": "62f979b0",
   "metadata": {
    "title": "test2"
   },
   "outputs": [],
   "source": [
    "# Import packages\n",
    "import math\n",
    "import statistics\n",
    "from scipy.stats import ttest_ind_from_stats"
   ]
  },
  {
   "cell_type": "markdown",
   "id": "876ca70f-3edf-4c76-b4fe-50fa92e322f9",
   "metadata": {},
   "source": [
    "### Enter descriptive stats for Sample 1"
   ]
  },
  {
   "cell_type": "code",
   "execution_count": 2,
   "id": "9b17f2b4-d387-492c-a2bf-65ba95a79da5",
   "metadata": {},
   "outputs": [],
   "source": [
    "# Sample 1\n",
    "mean1 = 5.9\n",
    "sd1 = 6.5\n",
    "n1 = 10"
   ]
  },
  {
   "cell_type": "markdown",
   "id": "2b468a88-2bc2-4619-876e-ce12f8c5e139",
   "metadata": {},
   "source": [
    "### Enter descriptive statistics for Sample 2"
   ]
  },
  {
   "cell_type": "code",
   "execution_count": 3,
   "id": "3f5a39bf-a48d-4a14-bdf6-748c6de6fb5d",
   "metadata": {},
   "outputs": [],
   "source": [
    "# Sample 2\n",
    "mean2 = -5.8\n",
    "sd2 = 8.6\n",
    "n2 = 12"
   ]
  },
  {
   "cell_type": "code",
   "execution_count": 4,
   "id": "53ef0e5e-0d7b-45b3-9f17-1bf570793955",
   "metadata": {},
   "outputs": [],
   "source": [
    "# Calculate pooled standard deviation and t-test\n",
    "pooled_standard_deviation = math.sqrt(\n",
    "    ((n1 - 1)*sd1 * sd1 + (n2-1)*sd2 * sd2) /\n",
    "    (n1 + n2-2)\n",
    "    )\n",
    "statistic, pvalue = ttest_ind_from_stats(mean1, sd1, n1, mean2, sd2, n2, alternative='two-sided')"
   ]
  },
  {
   "cell_type": "markdown",
   "id": "2a4ed654-e1e5-40d3-9ec5-97859e5a83f0",
   "metadata": {},
   "source": [
    "### Output"
   ]
  },
  {
   "cell_type": "code",
   "execution_count": 6,
   "id": "d452ed2c-0982-4e72-acf7-6ab3495f24fd",
   "metadata": {},
   "outputs": [
    {
     "name": "stdout",
     "output_type": "stream",
     "text": [
      "Pooled Standard Deviation =  7.725962723182141\n",
      "t-value =  3.5368165650189423\n",
      "P-value =  0.002070748138644093\n"
     ]
    }
   ],
   "source": [
    "print(\"Pooled Standard Deviation = \", pooled_standard_deviation)\n",
    "print(\"t-value = \", statistic)\n",
    "print(\"P-value = \", pvalue)"
   ]
  }
 ],
 "metadata": {
  "jupytext": {
   "cell_metadata_filter": "title,-all",
   "encoding": "# -*- coding: utf-8 -*-",
   "main_language": "python",
   "notebook_metadata_filter": "-all"
  },
  "kernelspec": {
   "display_name": "Python 3 (ipykernel)",
   "language": "python",
   "name": "python3"
  },
  "language_info": {
   "codemirror_mode": {
    "name": "ipython",
    "version": 3
   },
   "file_extension": ".py",
   "mimetype": "text/x-python",
   "name": "python",
   "nbconvert_exporter": "python",
   "pygments_lexer": "ipython3",
   "version": "3.11.4"
  }
 },
 "nbformat": 4,
 "nbformat_minor": 5
}
